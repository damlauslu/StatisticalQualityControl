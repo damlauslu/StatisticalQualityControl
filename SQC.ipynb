{
 "cells": [
  {
   "cell_type": "markdown",
   "id": "3ffebbb0",
   "metadata": {},
   "source": [
    "# 📘 Statistical Quality Control Term Project Report\n",
    "\n",
    "**Course**: Statistical Quality Control  \n",
    "**Project Title**: Phase I-II Control Chart Analysis with Simulated Data  \n",
    "**Data Source**: `SureVerisi.xlsx` (to be located in the same directory as this notebook)  \n",
    "**Prepared By**: [Your Name]  \n",
    "**Date**: May 2025  \n",
    "\n",
    "---\n",
    "\n",
    "## 1. 🎯 Introduction\n",
    "\n",
    "This report aims to investigate the use of various control charts for monitoring and improving process quality. The project is aligned with the DMAIC (Define, Measure, Analyze, Improve, Control) structure and follows the statistical quality control principles outlined by Montgomery (7th Edition).\n",
    "\n",
    "We will simulate subgroup data to create and analyze the following control charts:\n",
    "\n",
    "- Variable Control Charts: $\bar{X}$-R, $\bar{X}$-s, $\bar{X}$-$s^2$, I-MR, CUSUM, EWMA, MA  \n",
    "- Attribute Control Charts: P, np, U, C  \n",
    "\n",
    "The project is divided into Phase I (initial control limit estimation) and Phase II (monitoring), with the presence of at least one assignable cause in Phase I.\n",
    "\n",
    "---\n"
   ]
  },
  {
   "cell_type": "markdown",
   "id": "ddeb6a62",
   "metadata": {},
   "source": [
    "## 1.1 What is Statistical Quality Control?\n",
    "\n",
    "Statistical Quality Control (SQC) refers to the use of statistical techniques to control and improve production processes. It includes control charts, process capability analysis, and acceptance sampling.\n",
    "\n",
    "There are two primary types of variation in processes:\n",
    "\n",
    "- **Chance Causes (Common Causes)**: Random variation inherent in the process.\n",
    "- **Assignable Causes (Special Causes)**: Identifiable sources of variation that can be corrected.\n",
    "\n",
    "A process is said to be *in control* if only chance causes are present and *out of control* if assignable causes are also affecting the output.\n",
    "\n",
    "---\n",
    "\n",
    "## 1.2 DMAIC Framework\n",
    "\n",
    "The DMAIC methodology is a structured problem-solving process typically used in Six Sigma and quality improvement initiatives.\n",
    "\n",
    "| Step     | Description |\n",
    "|----------|-------------|\n",
    "| **Define**   | Identify the problem and project goals |\n",
    "| **Measure**  | Collect data and determine current performance |\n",
    "| **Analyze**  | Investigate root causes of defects or issues |\n",
    "| **Improve**  | Implement solutions to address root causes |\n",
    "| **Control**  | Maintain improvements through monitoring |\n",
    "\n",
    "---\n",
    "\n",
    "## 1.3 Objective of This Project\n",
    "\n",
    "This project applies Phase I and Phase II control chart analysis to simulated production data. Charts for both **variables** and **attributes** will be created, and shifts in process behavior will be identified and interpreted.\n",
    "\n"
   ]
  },
  {
   "cell_type": "markdown",
   "id": "e2dde994",
   "metadata": {},
   "source": [
    "## 2. 📊 Data Description\n",
    "\n",
    "The dataset used for this project is stored in an Excel file named `SureVerisi.xlsx`, which should be placed in the same directory as this notebook.\n",
    "\n",
    "Below we load the data and inspect the first few rows.\n"
   ]
  },
  {
   "cell_type": "code",
   "execution_count": null,
   "id": "9193b3ce",
   "metadata": {},
   "outputs": [],
   "source": [
    "import pandas as pd\n",
    "\n",
    "# Load the data from the Excel file\n",
    "file_path = \"SureVerisi.xlsx\"\n",
    "df = pd.read_excel(file_path)\n",
    "\n",
    "# Display the first few rows\n",
    "df.head()\n"
   ]
  }
 ],
 "metadata": {},
 "nbformat": 4,
 "nbformat_minor": 5
}
